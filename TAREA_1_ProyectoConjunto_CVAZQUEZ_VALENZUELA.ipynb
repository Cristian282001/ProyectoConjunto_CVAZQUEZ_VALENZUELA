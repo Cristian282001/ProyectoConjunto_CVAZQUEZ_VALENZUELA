{
 "cells": [
  {
   "cell_type": "markdown",
   "metadata": {},
   "source": [
    "<img style=\"float: left; margin: 30px 15px 15px 15px;\" src=\"https://pngimage.net/wp-content/uploads/2018/06/logo-iteso-png-5.png\" width=\"300\" height=\"500\" /> \n",
    "    \n",
    "    \n",
    "### <font color='navy'> Simulación de procesos financieros. \n",
    "\n",
    "**Nombres:** CRISTIAN VAZQUEZ PLESENT & MARIANA VALENZUELA LAFARGA \n",
    "\n",
    "**Fecha:** 28 de enero del 2023.\n",
    "\n",
    "**Expediente** : 731324-.\n",
    "**Profesor:** Oscar David Jaramillo Zuluaga.\n",
    "    \n",
    "**Link Github**: https://github.com/Cristian282001/ProyectoConjunto_CVAZQUEZ_VALENZUELA.git\n",
    "\n",
    "# Tarea 1: Clase Clase2_GitTutorial2"
   ]
  },
  {
   "cell_type": "markdown",
   "metadata": {},
   "source": [
    "## Enunciado de tarea (Transcibirlo)\n",
    "> ### Fecha de entrega: Martes 31 de Enero.\n",
    "### Recuerden que en canvas se encuntra el archivo Plantilla tareas, en donde deben de solucionar todas sus tareas.\n",
    "\n",
    "Este archivo contiene las pautas necesarias para crear el archivo conjunto en Github, usando los notebooks de Jupyter:\n",
    "\n",
    "1.  El archivo debe realizarse en parejas y sólo uno de los dos debe crear en su cuenta de *Github* un repositorio con el nombre **ProyectoConjunto\\_APELLIDO1\\_APELLIDO2**. A la persona que creó el repositorio la llamaremos (ESTUDIANTE 1 ). El APELLIDO se debe de escribir (Iniciales del nombre y primer apellido), por ejemplo si yo creara el archivo lo debería de nombrar *ProyectoConjunto\\_ODJaramillo*. \n",
    "1.  Posteriormente, desde la cuenta del (ESTUDIANTE 2), 'aquel que no creó el repositorio anterior', ingresar al perfil del ESTUDIANTE 1 y en el repositorio creado en el paso 1, realizar un \"fork\" de este repositorio en su perfil, y además realizar los pasos en Gitkraken para hacer dicho repositorio \"Remoto (REMOTE)\" VER DICHO PROCEDIMIENTO EN LA CLASE **Clase2_GitTurorial2**.\n",
    "1.  Luego de realizados los pasos 1 y 2, el ESTUDIANTE 1 y ESTUDIANTE 2, desde su computador realizar un *clone* del repositorio creado en el numeral 1 en la carpeta que cada quién haya asignado para el curso en su computador. \n",
    "1.  Luego desde Jupyter el ESTUDIANTE 1, crea un nuevo ``notebook`` en el repositorio del paso 3. \n",
    "1.  En este nuevo notebook el ESTUDIANTE 1 y ESTUDIANTE 2, deben realizar una presentación describiendo sus expectativas del curso y la transcipción de la Figura 1 y Figura 2 respectivamente, haciendo uso de la sintaxis Markdown. Recuerden definir unas celdas donde cada usuario modificará el cuaderno de python para evitar futuros conflictos. \n",
    "\n",
    "**RECOMENDACIÓN:ANTES DE EMPEZAR A REALIZAR MUCHAS MODIFICACIONES DEL NOTEBOOK PRIMERO REALICEN CAMBIOS PEQUEÑOS EN EL ARCHIVO EN CONJUNTO Y VERIFIQUEN SI TANTO EL ``ESTUDIANTE 1`` COMO EL ``ESTUDIANTE 2``  RECIBEN LAS ACTUALIZACIONES QUE REALIZAN CADA UNO EN EL PROYECTO PARA VERIFICAR QUE EL REMOTE ESTUVO BIEN CONFIGURADO.**\n",
    ">Les recomiendo ver los siguientes enlaces para ver distintas funciones para escribir en markdown.\n",
    ">    - [Creador de tablas online](https://www.tablesgenerator.com/markdown_tables)\n",
    ">    - [Sintáxis markdown](https://joplinapp.org/markdown/)\n",
    "\n",
    "6. Cuando ya se encuentre el proyecto conjunto con la información del ESTUDIANTE 1 y ESTUDIANTE 2, el ``ESTUDIANTE 2``  debe de realizar un `pull request` con las modificaciones realizadas a el `ESTUDIANTE 1` para que este realice un merge a la rama `master`, con las moficaciones propuestas por el `ESTUDIANTE 2`, TAL Y CÓMO SE REALIZÓ EN CLASE. (Recuerden que los pull request se generan en *Gitkraken* y se administran los comentarios o cambios propuestos por su compañero desde *Github* ver `Clase1_GitTurorial` para aclaración de dudas, donde se explica cómo crear *branch y pull request*)"
   ]
  },
  {
   "cell_type": "markdown",
   "metadata": {},
   "source": [
    "### Ejercicio 1: \n",
    "\n",
    "> Hola mi nombre es **Cristian Vazquez Plesent**, soy alumno del ITESO de sexto semestre, anteriormente ya había trabajado con Python en las materias de ciencia de datos, simulación matemática, portafolios de inversión y para proyectos personales, lo que espero es que no haya problema alguna en la cuestión de trabajar con gihtkraken. A su vez tengo expectativas muy altas de esta materia al ver cómo podemos aplicar los conocimientos de la simulación en una cuestión laboral y cuestiones reales que se apliquen al momento que esté llevando a cabo en movimiento del mercado."
   ]
  },
  {
   "cell_type": "markdown",
   "metadata": {},
   "source": [
    "## Código de solución estudiante 1"
   ]
  },
  {
   "cell_type": "markdown",
   "metadata": {},
   "source": [
    "$$i$$ | $$x$$ | $$f(x)$$\n",
    "-----:|:--------:| -------\n",
    "$$0$$ | $$-1$$ | $$0.3678$$\n",
    "$$\\color{red}{1}$$ | $$\\color{red}{-0.5}$$ | $$\\color{red}{0.7788}$$\n",
    "$$\\color{blue}{2}$$ | $$\\color{blue}{0}$$ | $$\\color{blue}{1}$$\n",
    "$$\\color{red}{3}$$ | $$\\color{red}{0.5}$$ | $$\\color{red}{0.7788}$$\n",
    "$$4$$ | $$-1$$ | $$0.3678$$\n",
    "\n",
    "$$\\text{Cuadro 1: Tabla de valores de }f(x)$$\n",
    "\n",
    "$$\\int_{-1}^{1} e^{-x^2} dx \\approx \\frac{{0.5}}{3} \\left[f(-1)+f(1)+4(\\color{red}{f(-0.5)+f(0.5)}\\color{black}{) + 2}\\color{blue}{f(0)} \\right]$$\n",
    "\n",
    "\n",
    "$$\\approx \\frac{{0.5}}{3} \\left[0.3678+0.3678+4(\\color{red}{0.788+0.7788)}\\color{black}{) + 2 · }\\color{blue}{1} \\right]\\approx 1.4943$$\n",
    "\n",
    "\n",
    "<link href='https://fonts.googleapis.com/css?family=Libre Baskerville' rel='stylesheet'>\n",
    "<p style=\"text-align: justify;  margin-left: 130px; margin-right: 130px; font-family: 'Libre Baskerville'; font-size:18px;\">     A modo de verificación, se calculará por el software, el valor del área para n=100, un valor mucho más elevado al que se utilizó anteriormente.Si lo calculado previamente es correcto, se esperaría que sea próximo al valor presentado a continuación para hacer una buena aproximación.</p>\n",
    "\n",
    "\n",
    "\n",
    "$$\\int_{-1}^{1} e^{-x^2} dx \\approx1.4936$$"
   ]
  },
  {
   "cell_type": "markdown",
   "metadata": {},
   "source": [
    "### Ejercicio 2"
   ]
  },
  {
   "cell_type": "markdown",
   "metadata": {},
   "source": [
    "> Hola mi nombre es **Mariana Valenzuela Lafarga** y soy alumna de intercambio por parte de la UAS. En este curso espero aprender a manejar mucho mejor Python, además de ser capaz de llevar lo visto en clase al ámbito profesional en un futuro. "
   ]
  },
  {
   "cell_type": "markdown",
   "metadata": {},
   "source": [
    "## Código de solución estudiante 2"
   ]
  },
  {
   "cell_type": "markdown",
   "metadata": {},
   "source": [
    "|    $$i$$            |  $$1$$  |  $$2$$  |  $$3$$  |  $$4$$  | $$5$$ | $$6$$ |  $$7$$ |\n",
    "|:---------------:|:---:|:---:|:---:|:---:|:-:|:-:|:--:|\n",
    "| $$E_{i}(V)$$  |  $$12$$|  $$10$$ |  $$24$$ |  $$12$$ | - | - |  - |\n",
    "| $$r_{i}(Ω)$$  | $$0.1$$ | $$0.5$$ | $$0.2$$ | $$0.5$$ | - | - |  - |\n",
    "| $$R_{i}(Ω)$$  |  $$25$$ |  $$40$$|  $$16$$ |  $$20$$ | $$9$$ | $$4$$ | $$20$$ |"
   ]
  },
  {
   "cell_type": "markdown",
   "metadata": {},
   "source": [
    "$\\quad$ <font color= #3F888F >  Kemna y Vorst (1990)</font> muestran que las opciones asiáticas con media geométrica continua se pueden valuar con el mismo enfoque de las opciones *plain vanilla*; solo se deben cambiar los parámetros de volatilidad $\\sigma$ por $\\sigma_{a}$ y el costo de acarreo *b* por *$b_{A}$*.\n",
    "\n",
    "$\\quad$ De acuerdo con Kemma y Vorst, las fórmulas para valuar una opción de compra y una opción de venta son:"
   ]
  },
  {
   "cell_type": "markdown",
   "metadata": {},
   "source": [
    "$$c\\approx S_{t}e^{(b_{A}-r)(T-t)} \\varPhi (d_{1})- Ke^{-r(T-t)} \\varPhi (d_{2}),$$\n",
    "$$p\\approx Ke^{-r(T-t)} \\varPhi (-d_{2})- S_{t}e^{(b_{A}-r)(T-t)} \\varPhi (-d_{1}).$$    "
   ]
  },
  {
   "cell_type": "markdown",
   "metadata": {},
   "source": [
    "con *d1* y *d2* dados por:\n",
    "$$d_{1}= ln (St/K)+(b_{A}+ 1/2\\sigma_{a}^{2})(T-t)$$\n",
    "$$d_{2}= d_{1}-\\sigma_{a} \\sqrt{T-t}$$"
   ]
  },
  {
   "cell_type": "markdown",
   "metadata": {},
   "source": [
    "La función $\\varPhi(d)$ es la función de distribución acumulada de $E\\thicksim N(0,1)$. La volatilidad ajustada es igual a:\n",
    "$$\\sigma_{a}=\\frac {\\sigma}{\\sqrt 3},$$\n",
    "$\\textrm {mientras que el costo de acarreo ajustado es:}$\n",
    "$$b_{A}=\\frac{1}{2} (v-\\frac {\\sigma^2}{6}).$$"
   ]
  },
  {
   "cell_type": "markdown",
   "metadata": {},
   "source": [
    "# Ejercicio:\n",
    "\n",
    "\n",
    "> Luego de culminado los pasos anteriores, el ESTUDIANTE 1,realizará un programa que imprima la serie de fibonacci para sus primeros 100 términos en un array de python,usando la rama “master” del repositorio creado. Por otro lado, el ESTUDIANTE 2,creando un “branch” llamado ejerPrograma, generará un programa que muestre los números primos del 0-100. Luego de que el ESTUDIANTE 2 haya terminado su programa, debe de realizar un “pull request” al ESTUDIANTE 1, ANTES de hacer un “merge” de la rama ejerPrograma en el proyecto principal (“master”). Luego de realizado estos pasos NO BORRAR LA RAMA CREADA (ejerPrograma)"
   ]
  },
  {
   "cell_type": "markdown",
   "metadata": {},
   "source": [
    "## Serie de fibonacci para sus primeros 100 términos"
   ]
  },
  {
   "cell_type": "code",
   "execution_count": 3,
   "metadata": {},
   "outputs": [],
   "source": [
    "import numpy as np\n"
   ]
  },
  {
   "cell_type": "code",
   "execution_count": 4,
   "metadata": {
    "scrolled": true
   },
   "outputs": [
    {
     "name": "stdout",
     "output_type": "stream",
     "text": [
      "[1 1 2 3 5 8 13 21 34 55 89 144 233 377 610 987 1597 2584 4181 6765 10946\n",
      " 17711 28657 46368 75025 121393 196418 317811 514229 832040 1346269\n",
      " 2178309 3524578 5702887 9227465 14930352 24157817 39088169 63245986\n",
      " 102334155 165580141 267914296 433494437 701408733 1134903170 1836311903\n",
      " 2971215073 4807526976 7778742049 12586269025 20365011074 32951280099\n",
      " 53316291173 86267571272 139583862445 225851433717 365435296162\n",
      " 591286729879 956722026041 1548008755920 2504730781961 4052739537881\n",
      " 6557470319842 10610209857723 17167680177565 27777890035288 44945570212853\n",
      " 72723460248141 117669030460994 190392490709135 308061521170129\n",
      " 498454011879264 806515533049393 1304969544928657 2111485077978050\n",
      " 3416454622906707 5527939700884757 8944394323791464 14472334024676221\n",
      " 23416728348467685 37889062373143906 61305790721611591 99194853094755497\n",
      " 160500643816367088 259695496911122585 420196140727489673\n",
      " 679891637638612258 1100087778366101931 1779979416004714189\n",
      " 2880067194370816120 4660046610375530309 7540113804746346429\n",
      " 12200160415121876738 19740274219868223167 31940434634990099905\n",
      " 51680708854858323072 83621143489848422977 135301852344706746049\n",
      " 218922995834555169026 354224848179261915075]\n"
     ]
    }
   ],
   "source": [
    "def fibonacci(n):\n",
    "    result = []\n",
    "    a, b = 0, 1\n",
    "    while len(result) < n:\n",
    "        result.append(b)\n",
    "        a, b = b, a + b\n",
    "    return result\n",
    "\n",
    "fib_array = np.array(fibonacci(100))\n",
    "print(fib_array)\n"
   ]
  },
  {
   "cell_type": "markdown",
   "metadata": {},
   "source": [
    "## Muestre los números primos del 0-100"
   ]
  },
  {
   "cell_type": "code",
   "execution_count": 5,
   "metadata": {},
   "outputs": [
    {
     "name": "stdout",
     "output_type": "stream",
     "text": [
      "[2, 3, 5, 7, 11, 13, 17, 19, 23, 29, 31, 37, 41, 43, 47, 53, 59, 61, 67, 71, 73, 79, 83, 89, 97]\n"
     ]
    }
   ],
   "source": [
    "def is_prime(n):\n",
    "    if n <= 1:\n",
    "        return False\n",
    "    for i in range(2, int(n**0.5) + 1):\n",
    "        if n % i == 0:\n",
    "            return False\n",
    "    return True\n",
    "\n",
    "prime_numbers = [num for num in range(2, 101) if is_prime(num)]\n",
    "print(prime_numbers)\n"
   ]
  },
  {
   "cell_type": "code",
   "execution_count": null,
   "metadata": {},
   "outputs": [],
   "source": []
  }
 ],
 "metadata": {
  "kernelspec": {
   "display_name": "Python 3",
   "language": "python",
   "name": "python3"
  },
  "language_info": {
   "codemirror_mode": {
    "name": "ipython",
    "version": 3
   },
   "file_extension": ".py",
   "mimetype": "text/x-python",
   "name": "python",
   "nbconvert_exporter": "python",
   "pygments_lexer": "ipython3",
   "version": "3.8.8"
  }
 },
 "nbformat": 4,
 "nbformat_minor": 2
}
